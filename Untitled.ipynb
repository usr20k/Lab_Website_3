{
 "cells": [
  {
   "cell_type": "code",
   "execution_count": 10,
   "metadata": {},
   "outputs": [],
   "source": [
    "import numpy as np\n",
    "import pandas as pd\n",
    "import scipy.stats as stats\n",
    "import math"
   ]
  },
  {
   "cell_type": "code",
   "execution_count": 2,
   "metadata": {},
   "outputs": [
    {
     "name": "stdout",
     "output_type": "stream",
     "text": [
      "0.6305586598182363\n"
     ]
    }
   ],
   "source": [
    "print(1-stats.norm.cdf(14, loc=15, scale=3))"
   ]
  },
  {
   "cell_type": "code",
   "execution_count": 3,
   "metadata": {},
   "outputs": [
    {
     "name": "stdout",
     "output_type": "stream",
     "text": [
      "0.9772498680518208\n"
     ]
    }
   ],
   "source": [
    "normalpt = (14-15)/(3/6)\n",
    "print(1-stats.norm.cdf(normalpt))"
   ]
  },
  {
   "cell_type": "code",
   "execution_count": 15,
   "metadata": {},
   "outputs": [
    {
     "name": "stdout",
     "output_type": "stream",
     "text": [
      "411.7597839072403 388.2402160927597\n"
     ]
    }
   ],
   "source": [
    "z = stats.norm.ppf(1-(0.05/2))\n",
    "mean = 400\n",
    "sd = 36\n",
    "n = 36\n",
    "\n",
    "ub = mean+(z * (sd/math.sqrt(n)))\n",
    "lb = mean-(z * (sd/math.sqrt(n)))\n",
    "print(ub, lb)"
   ]
  },
  {
   "cell_type": "code",
   "execution_count": 17,
   "metadata": {},
   "outputs": [
    {
     "name": "stdout",
     "output_type": "stream",
     "text": [
      "403.7197478917804 376.2802521082196\n"
     ]
    }
   ],
   "source": [
    "z = stats.norm.ppf(1-(0.05/2))\n",
    "mean = 390\n",
    "sd = 42\n",
    "n = 36\n",
    "\n",
    "ub = mean+(z * (sd/math.sqrt(n)))\n",
    "lb = mean-(z * (sd/math.sqrt(n)))\n",
    "print(ub, lb)"
   ]
  },
  {
   "cell_type": "code",
   "execution_count": null,
   "metadata": {},
   "outputs": [],
   "source": []
  }
 ],
 "metadata": {
  "kernelspec": {
   "display_name": "Python 3",
   "language": "python",
   "name": "python3"
  },
  "language_info": {
   "codemirror_mode": {
    "name": "ipython",
    "version": 3
   },
   "file_extension": ".py",
   "mimetype": "text/x-python",
   "name": "python",
   "nbconvert_exporter": "python",
   "pygments_lexer": "ipython3",
   "version": "3.7.1"
  }
 },
 "nbformat": 4,
 "nbformat_minor": 2
}
